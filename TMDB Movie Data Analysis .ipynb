{
 "cells": [
  {
   "cell_type": "code",
   "execution_count": 14,
   "id": "9cdbd0bd-ae1b-49f5-bbf2-f7db9b8dafa4",
   "metadata": {},
   "outputs": [],
   "source": [
    "import pandas as pd"
   ]
  },
  {
   "cell_type": "code",
   "execution_count": 15,
   "id": "ddfda905-384e-49a1-b7ce-8838b3ec55d2",
   "metadata": {},
   "outputs": [],
   "source": [
    "import numpy as np"
   ]
  },
  {
   "cell_type": "code",
   "execution_count": 16,
   "id": "f68a6b56-86d7-474c-ae2a-c4a348b4a53e",
   "metadata": {},
   "outputs": [],
   "source": [
    "import matplotlib.pyplot as plt"
   ]
  },
  {
   "cell_type": "code",
   "execution_count": 17,
   "id": "acc5b377-4461-45da-88d6-b5c4e43b7f84",
   "metadata": {},
   "outputs": [],
   "source": [
    "file_path = 'DS_C4_S2_ND_Data Analysis Using Python_CaseStudy_Dataset.csv'\n",
    "df = pd.read_csv(file_path)"
   ]
  },
  {
   "cell_type": "code",
   "execution_count": 18,
   "id": "bc41a93d-2bd1-4c3e-a930-966a5d124483",
   "metadata": {},
   "outputs": [
    {
     "name": "stdout",
     "output_type": "stream",
     "text": [
      "Dataset Shape (rows, columns): (4803, 20)\n"
     ]
    }
   ],
   "source": [
    "print(\"Dataset Shape (rows, columns):\", df.shape)"
   ]
  },
  {
   "cell_type": "code",
   "execution_count": 19,
   "id": "122cfe74-dc2a-4ec3-944e-99fbb4fdb6ed",
   "metadata": {},
   "outputs": [
    {
     "name": "stdout",
     "output_type": "stream",
     "text": [
      "                                          title  \\\n",
      "0                                        Avatar   \n",
      "1      Pirates of the Caribbean: At World's End   \n",
      "2                                       Spectre   \n",
      "3                         The Dark Knight Rises   \n",
      "4                                   John Carter   \n",
      "5                                  Spider-Man 3   \n",
      "6                                       Tangled   \n",
      "7                       Avengers: Age of Ultron   \n",
      "8        Harry Potter and the Half-Blood Prince   \n",
      "9            Batman v Superman: Dawn of Justice   \n",
      "10                             Superman Returns   \n",
      "11                            Quantum of Solace   \n",
      "12   Pirates of the Caribbean: Dead Man's Chest   \n",
      "13                              The Lone Ranger   \n",
      "14                                 Man of Steel   \n",
      "15     The Chronicles of Narnia: Prince Caspian   \n",
      "16                                 The Avengers   \n",
      "17  Pirates of the Caribbean: On Stranger Tides   \n",
      "18                               Men in Black 3   \n",
      "19    The Hobbit: The Battle of the Five Armies   \n",
      "20                       The Amazing Spider-Man   \n",
      "21                                   Robin Hood   \n",
      "22          The Hobbit: The Desolation of Smaug   \n",
      "23                           The Golden Compass   \n",
      "24                                    King Kong   \n",
      "25                                      Titanic   \n",
      "26                   Captain America: Civil War   \n",
      "27                                   Battleship   \n",
      "28                               Jurassic World   \n",
      "29                                      Skyfall   \n",
      "30                                 Spider-Man 2   \n",
      "31                                   Iron Man 3   \n",
      "32                          Alice in Wonderland   \n",
      "33                        X-Men: The Last Stand   \n",
      "34                          Monsters University   \n",
      "35          Transformers: Revenge of the Fallen   \n",
      "36              Transformers: Age of Extinction   \n",
      "37                   Oz: The Great and Powerful   \n",
      "38                     The Amazing Spider-Man 2   \n",
      "39                                 TRON: Legacy   \n",
      "40                                       Cars 2   \n",
      "41                                Green Lantern   \n",
      "42                                  Toy Story 3   \n",
      "43                         Terminator Salvation   \n",
      "44                                    Furious 7   \n",
      "45                                  World War Z   \n",
      "46                   X-Men: Days of Future Past   \n",
      "47                      Star Trek Into Darkness   \n",
      "48                        Jack the Giant Slayer   \n",
      "49                             The Great Gatsby   \n",
      "\n",
      "                                               genres  \n",
      "0   [{\"id\": 28, \"name\": \"Action\"}, {\"id\": 12, \"nam...  \n",
      "1   [{\"id\": 12, \"name\": \"Adventure\"}, {\"id\": 14, \"...  \n",
      "2   [{\"id\": 28, \"name\": \"Action\"}, {\"id\": 12, \"nam...  \n",
      "3   [{\"id\": 28, \"name\": \"Action\"}, {\"id\": 80, \"nam...  \n",
      "4   [{\"id\": 28, \"name\": \"Action\"}, {\"id\": 12, \"nam...  \n",
      "5   [{\"id\": 14, \"name\": \"Fantasy\"}, {\"id\": 28, \"na...  \n",
      "6   [{\"id\": 16, \"name\": \"Animation\"}, {\"id\": 10751...  \n",
      "7   [{\"id\": 28, \"name\": \"Action\"}, {\"id\": 12, \"nam...  \n",
      "8   [{\"id\": 12, \"name\": \"Adventure\"}, {\"id\": 14, \"...  \n",
      "9   [{\"id\": 28, \"name\": \"Action\"}, {\"id\": 12, \"nam...  \n",
      "10  [{\"id\": 12, \"name\": \"Adventure\"}, {\"id\": 14, \"...  \n",
      "11  [{\"id\": 12, \"name\": \"Adventure\"}, {\"id\": 28, \"...  \n",
      "12  [{\"id\": 12, \"name\": \"Adventure\"}, {\"id\": 14, \"...  \n",
      "13  [{\"id\": 28, \"name\": \"Action\"}, {\"id\": 12, \"nam...  \n",
      "14  [{\"id\": 28, \"name\": \"Action\"}, {\"id\": 12, \"nam...  \n",
      "15  [{\"id\": 12, \"name\": \"Adventure\"}, {\"id\": 10751...  \n",
      "16  [{\"id\": 878, \"name\": \"Science Fiction\"}, {\"id\"...  \n",
      "17  [{\"id\": 12, \"name\": \"Adventure\"}, {\"id\": 28, \"...  \n",
      "18  [{\"id\": 28, \"name\": \"Action\"}, {\"id\": 35, \"nam...  \n",
      "19  [{\"id\": 28, \"name\": \"Action\"}, {\"id\": 12, \"nam...  \n",
      "20  [{\"id\": 28, \"name\": \"Action\"}, {\"id\": 12, \"nam...  \n",
      "21  [{\"id\": 28, \"name\": \"Action\"}, {\"id\": 12, \"nam...  \n",
      "22  [{\"id\": 12, \"name\": \"Adventure\"}, {\"id\": 14, \"...  \n",
      "23  [{\"id\": 12, \"name\": \"Adventure\"}, {\"id\": 14, \"...  \n",
      "24  [{\"id\": 12, \"name\": \"Adventure\"}, {\"id\": 18, \"...  \n",
      "25  [{\"id\": 18, \"name\": \"Drama\"}, {\"id\": 10749, \"n...  \n",
      "26  [{\"id\": 12, \"name\": \"Adventure\"}, {\"id\": 28, \"...  \n",
      "27  [{\"id\": 53, \"name\": \"Thriller\"}, {\"id\": 28, \"n...  \n",
      "28  [{\"id\": 28, \"name\": \"Action\"}, {\"id\": 12, \"nam...  \n",
      "29  [{\"id\": 28, \"name\": \"Action\"}, {\"id\": 12, \"nam...  \n",
      "30  [{\"id\": 28, \"name\": \"Action\"}, {\"id\": 12, \"nam...  \n",
      "31  [{\"id\": 28, \"name\": \"Action\"}, {\"id\": 12, \"nam...  \n",
      "32  [{\"id\": 10751, \"name\": \"Family\"}, {\"id\": 14, \"...  \n",
      "33  [{\"id\": 12, \"name\": \"Adventure\"}, {\"id\": 28, \"...  \n",
      "34  [{\"id\": 16, \"name\": \"Animation\"}, {\"id\": 10751...  \n",
      "35  [{\"id\": 878, \"name\": \"Science Fiction\"}, {\"id\"...  \n",
      "36  [{\"id\": 878, \"name\": \"Science Fiction\"}, {\"id\"...  \n",
      "37  [{\"id\": 14, \"name\": \"Fantasy\"}, {\"id\": 12, \"na...  \n",
      "38  [{\"id\": 28, \"name\": \"Action\"}, {\"id\": 12, \"nam...  \n",
      "39  [{\"id\": 12, \"name\": \"Adventure\"}, {\"id\": 28, \"...  \n",
      "40  [{\"id\": 16, \"name\": \"Animation\"}, {\"id\": 10751...  \n",
      "41  [{\"id\": 12, \"name\": \"Adventure\"}, {\"id\": 28, \"...  \n",
      "42  [{\"id\": 16, \"name\": \"Animation\"}, {\"id\": 10751...  \n",
      "43  [{\"id\": 28, \"name\": \"Action\"}, {\"id\": 878, \"na...  \n",
      "44                     [{\"id\": 28, \"name\": \"Action\"}]  \n",
      "45  [{\"id\": 28, \"name\": \"Action\"}, {\"id\": 18, \"nam...  \n",
      "46  [{\"id\": 28, \"name\": \"Action\"}, {\"id\": 12, \"nam...  \n",
      "47  [{\"id\": 28, \"name\": \"Action\"}, {\"id\": 12, \"nam...  \n",
      "48  [{\"id\": 28, \"name\": \"Action\"}, {\"id\": 10751, \"...  \n",
      "49  [{\"id\": 18, \"name\": \"Drama\"}, {\"id\": 10749, \"n...  \n"
     ]
    }
   ],
   "source": [
    "print(df[['title', 'genres']].head(50))"
   ]
  },
  {
   "cell_type": "code",
   "execution_count": 58,
   "id": "41ae3af5-d5f9-4b73-aef5-6898d9bb41a9",
   "metadata": {},
   "outputs": [
    {
     "name": "stdout",
     "output_type": "stream",
     "text": [
      "Missing values before filling:\n",
      "budget                     0\n",
      "genres                     0\n",
      "homepage                1882\n",
      "id                         0\n",
      "keywords                   0\n",
      "original_language          0\n",
      "original_title             0\n",
      "overview                   0\n",
      "popularity                 0\n",
      "production_companies       0\n",
      "production_countries       0\n",
      "release_date               0\n",
      "revenue                    0\n",
      "runtime                    0\n",
      "spoken_languages           0\n",
      "status                     0\n",
      "tagline                  245\n",
      "title                      0\n",
      "vote_average               0\n",
      "vote_count                 0\n",
      "dtype: int64\n"
     ]
    }
   ],
   "source": [
    "print(\"Missing values before filling:\")\n",
    "print(df.isnull().sum())"
   ]
  },
  {
   "cell_type": "code",
   "execution_count": 59,
   "id": "f7e1aacb-52cb-448c-ac0e-9d19f4292062",
   "metadata": {},
   "outputs": [],
   "source": [
    "df['budget'] = df['budget'].fillna(df['budget'].mean())\n",
    "df['revenue'] = df['revenue'].fillna(df['revenue'].mean())\n",
    "df['runtime'] = df['runtime'].fillna(df['runtime'].mean())"
   ]
  },
  {
   "cell_type": "code",
   "execution_count": 60,
   "id": "fb43deae-4cea-4311-978c-7488dd9f19d4",
   "metadata": {},
   "outputs": [],
   "source": [
    "df['title'] = df['title'].fillna('Unknown Title')\n",
    "df['release_date'] = df['release_date'].fillna('01/01/1900')"
   ]
  },
  {
   "cell_type": "code",
   "execution_count": 61,
   "id": "a9db1ade-bfdf-4c11-84b1-144b90cda78e",
   "metadata": {},
   "outputs": [
    {
     "name": "stdout",
     "output_type": "stream",
     "text": [
      "budget                     0\n",
      "genres                     0\n",
      "homepage                1882\n",
      "id                         0\n",
      "keywords                   0\n",
      "original_language          0\n",
      "original_title             0\n",
      "overview                   0\n",
      "popularity                 0\n",
      "production_companies       0\n",
      "production_countries       0\n",
      "release_date               0\n",
      "revenue                    0\n",
      "runtime                    0\n",
      "spoken_languages           0\n",
      "status                     0\n",
      "tagline                  245\n",
      "title                      0\n",
      "vote_average               0\n",
      "vote_count                 0\n",
      "dtype: int64\n"
     ]
    }
   ],
   "source": [
    "print(df.isnull().sum())"
   ]
  },
  {
   "cell_type": "code",
   "execution_count": 28,
   "id": "a1a78b91-03d7-4e30-a239-713ee8aad69d",
   "metadata": {},
   "outputs": [],
   "source": [
    "high_budget_movies = df[df['budget'] > 220000]"
   ]
  },
  {
   "cell_type": "code",
   "execution_count": 30,
   "id": "6d528b74-a9bc-4934-92b3-d66a61fc09ea",
   "metadata": {},
   "outputs": [
    {
     "name": "stdout",
     "output_type": "stream",
     "text": [
      "Movies with budget greater than $220,000:\n",
      "                                         title     budget\n",
      "0                                       Avatar  237000000\n",
      "1     Pirates of the Caribbean: At World's End  300000000\n",
      "2                                      Spectre  245000000\n",
      "3                        The Dark Knight Rises  250000000\n",
      "4                                  John Carter  260000000\n",
      "...                                        ...        ...\n",
      "4680                               Malevolence     450000\n",
      "4682                              Super Hybrid   13000000\n",
      "4720                     The Birth of a Nation    8500000\n",
      "4758                                The Signal    4000000\n",
      "4770                       Mutual Appreciation     500000\n",
      "\n",
      "[3684 rows x 2 columns]\n"
     ]
    }
   ],
   "source": [
    "print(\"Movies with budget greater than $220,000:\")\n",
    "print(high_budget_movies[['title', 'budget']])"
   ]
  },
  {
   "cell_type": "code",
   "execution_count": 31,
   "id": "a0eddcc8-3e0f-4cd4-9b6e-91eb853ebac4",
   "metadata": {},
   "outputs": [],
   "source": [
    "high_revenue_movies = df[df['revenue'] > 961000000]"
   ]
  },
  {
   "cell_type": "code",
   "execution_count": 32,
   "id": "ae1c1a52-d3ac-4755-86db-bb502cd0665f",
   "metadata": {},
   "outputs": [
    {
     "name": "stdout",
     "output_type": "stream",
     "text": [
      "Movies with revenue greater than $961 million:\n",
      "                                             title     revenue\n",
      "0                                           Avatar  2787965087\n",
      "3                            The Dark Knight Rises  1084939099\n",
      "7                          Avengers: Age of Ultron  1405403694\n",
      "12      Pirates of the Caribbean: Dead Man's Chest  1065659812\n",
      "16                                    The Avengers  1519557910\n",
      "17     Pirates of the Caribbean: On Stranger Tides  1045713802\n",
      "25                                         Titanic  1845034188\n",
      "26                      Captain America: Civil War  1153304495\n",
      "28                                  Jurassic World  1513528810\n",
      "29                                         Skyfall  1108561013\n",
      "31                                      Iron Man 3  1215439994\n",
      "32                             Alice in Wonderland  1025491110\n",
      "36                 Transformers: Age of Extinction  1091405097\n",
      "42                                     Toy Story 3  1066969703\n",
      "44                                       Furious 7  1506249360\n",
      "52                  Transformers: Dark of the Moon  1123746996\n",
      "65                                 The Dark Knight  1004558444\n",
      "78                                 The Jungle Book   966550600\n",
      "98               The Hobbit: An Unexpected Journey  1021103568\n",
      "124                                         Frozen  1274219009\n",
      "197       Harry Potter and the Philosopher's Stone   976475550\n",
      "329  The Lord of the Rings: The Return of the King  1118888979\n",
      "506                                Despicable Me 2   970761885\n",
      "546                                        Minions  1156730962\n"
     ]
    }
   ],
   "source": [
    "print(\"Movies with revenue greater than $961 million:\")\n",
    "print(high_revenue_movies[['title', 'revenue']])"
   ]
  },
  {
   "cell_type": "code",
   "execution_count": 33,
   "id": "f30aeea4-5be3-4be7-b3be-b95b44ac2321",
   "metadata": {},
   "outputs": [],
   "source": [
    "df = df[(df['budget'] != 0) & (df['revenue'] != 0)]"
   ]
  },
  {
   "cell_type": "code",
   "execution_count": 34,
   "id": "64a7ee3d-0145-4536-a49f-1111c3897521",
   "metadata": {},
   "outputs": [
    {
     "name": "stdout",
     "output_type": "stream",
     "text": [
      "(3229, 20)\n"
     ]
    }
   ],
   "source": [
    "print(df.shape)"
   ]
  },
  {
   "cell_type": "code",
   "execution_count": 35,
   "id": "812b2605-31d7-4977-b813-5e03d0ed849d",
   "metadata": {},
   "outputs": [],
   "source": [
    "top_10_revenue = df.sort_values(by='revenue', ascending=False).head(10)"
   ]
  },
  {
   "cell_type": "code",
   "execution_count": 36,
   "id": "2eace853-3771-4f81-b671-99fa00be28a2",
   "metadata": {},
   "outputs": [
    {
     "name": "stdout",
     "output_type": "stream",
     "text": [
      "                          title     revenue\n",
      "0                        Avatar  2787965087\n",
      "25                      Titanic  1845034188\n",
      "16                 The Avengers  1519557910\n",
      "28               Jurassic World  1513528810\n",
      "44                    Furious 7  1506249360\n",
      "7       Avengers: Age of Ultron  1405403694\n",
      "124                      Frozen  1274219009\n",
      "31                   Iron Man 3  1215439994\n",
      "546                     Minions  1156730962\n",
      "26   Captain America: Civil War  1153304495\n"
     ]
    }
   ],
   "source": [
    "print(top_10_revenue[['title', 'revenue']])"
   ]
  },
  {
   "cell_type": "code",
   "execution_count": 37,
   "id": "0265fc4c-745c-4e22-8f42-b66a4eb1d700",
   "metadata": {},
   "outputs": [],
   "source": [
    "lowest_10_budget = df.sort_values(by='budget', ascending=True).head(10)"
   ]
  },
  {
   "cell_type": "code",
   "execution_count": 38,
   "id": "872bbf35-fd1c-48d6-b597-56892730f9b8",
   "metadata": {},
   "outputs": [
    {
     "name": "stdout",
     "output_type": "stream",
     "text": [
      "                   title  budget\n",
      "4238        Modern Times       1\n",
      "3611  A Farewell to Arms       4\n",
      "3372        Split Second       7\n",
      "3419        Bran Nue Dae       7\n",
      "4608        The Prophecy       8\n",
      "3131   Of Horses and Men      10\n",
      "3137           Nurse 3-D      10\n",
      "2933            F.I.S.T.      11\n",
      "1912      Angela's Ashes      25\n",
      "1771      The 51st State      28\n"
     ]
    }
   ],
   "source": [
    "print(lowest_10_budget[['title', 'budget']])"
   ]
  },
  {
   "cell_type": "code",
   "execution_count": 39,
   "id": "84f5a8cf-a4b4-4032-aa5d-c13df1aa7c85",
   "metadata": {},
   "outputs": [],
   "source": [
    "correlation = df['budget'].corr(df['popularity'])"
   ]
  },
  {
   "cell_type": "code",
   "execution_count": 40,
   "id": "2d07ce9a-49f4-4bf8-96c8-8250591c5cab",
   "metadata": {},
   "outputs": [
    {
     "name": "stdout",
     "output_type": "stream",
     "text": [
      "0.4319901360079751\n"
     ]
    }
   ],
   "source": [
    "print(correlation)"
   ]
  },
  {
   "cell_type": "code",
   "execution_count": 41,
   "id": "c4bfa415-a3b4-4703-ad4a-efa6c1fad8c4",
   "metadata": {},
   "outputs": [],
   "source": [
    "production_counts = df['production_companies'].value_counts()"
   ]
  },
  {
   "cell_type": "code",
   "execution_count": 42,
   "id": "fb4c5771-4664-4e0a-b44e-0d6416caf587",
   "metadata": {},
   "outputs": [
    {
     "name": "stdout",
     "output_type": "stream",
     "text": [
      "production_companies\n",
      "[{\"name\": \"Paramount Pictures\", \"id\": 4}]     48\n",
      "[]                                            41\n",
      "[{\"name\": \"Universal Pictures\", \"id\": 33}]    35\n",
      "[{\"name\": \"New Line Cinema\", \"id\": 12}]       29\n",
      "[{\"name\": \"Columbia Pictures\", \"id\": 5}]      28\n",
      "Name: count, dtype: int64\n"
     ]
    }
   ],
   "source": [
    "print(production_counts.head())"
   ]
  },
  {
   "cell_type": "code",
   "execution_count": 43,
   "id": "fa440503-34c7-4b38-9e72-ea61c2d43c5d",
   "metadata": {},
   "outputs": [],
   "source": [
    "top_25_production_companies = production_counts.head(25)"
   ]
  },
  {
   "cell_type": "code",
   "execution_count": 44,
   "id": "59aaa8fa-50a4-4366-bf7e-647babaff052",
   "metadata": {},
   "outputs": [
    {
     "name": "stdout",
     "output_type": "stream",
     "text": [
      "production_companies\n",
      "[{\"name\": \"Paramount Pictures\", \"id\": 4}]                                                                           48\n",
      "[]                                                                                                                  41\n",
      "[{\"name\": \"Universal Pictures\", \"id\": 33}]                                                                          35\n",
      "[{\"name\": \"New Line Cinema\", \"id\": 12}]                                                                             29\n",
      "[{\"name\": \"Columbia Pictures\", \"id\": 5}]                                                                            28\n",
      "[{\"name\": \"Twentieth Century Fox Film Corporation\", \"id\": 306}]                                                     25\n",
      "[{\"name\": \"Warner Bros.\", \"id\": 6194}]                                                                              24\n",
      "[{\"name\": \"Metro-Goldwyn-Mayer (MGM)\", \"id\": 8411}]                                                                 24\n",
      "[{\"name\": \"Walt Disney Pictures\", \"id\": 2}]                                                                         18\n",
      "[{\"name\": \"Touchstone Pictures\", \"id\": 9195}]                                                                       15\n",
      "[{\"name\": \"Columbia Pictures Corporation\", \"id\": 441}]                                                              13\n",
      "[{\"name\": \"Dimension Films\", \"id\": 7405}]                                                                           13\n",
      "[{\"name\": \"DreamWorks Animation\", \"id\": 521}]                                                                       12\n",
      "[{\"name\": \"Walt Disney Pictures\", \"id\": 2}, {\"name\": \"Pixar Animation Studios\", \"id\": 3}]                           11\n",
      "[{\"name\": \"United Artists\", \"id\": 60}]                                                                              10\n",
      "[{\"name\": \"Walt Disney Pictures\", \"id\": 2}, {\"name\": \"Walt Disney Feature Animation\", \"id\": 10217}]                  9\n",
      "[{\"name\": \"Miramax Films\", \"id\": 14}]                                                                                9\n",
      "[{\"name\": \"Marvel Studios\", \"id\": 420}]                                                                              8\n",
      "[{\"name\": \"Blue Sky Studios\", \"id\": 9383}, {\"name\": \"Twentieth Century Fox Animation\", \"id\": 11749}]                 8\n",
      "[{\"name\": \"Eon Productions\", \"id\": 7576}]                                                                            7\n",
      "[{\"name\": \"Fox 2000 Pictures\", \"id\": 711}]                                                                           7\n",
      "[{\"name\": \"United Artists\", \"id\": 60}, {\"name\": \"Eon Productions\", \"id\": 7576}, {\"name\": \"Danjaq\", \"id\": 10761}]     7\n",
      "[{\"name\": \"Hollywood Pictures\", \"id\": 915}, {\"name\": \"Cinergi Pictures Entertainment\", \"id\": 1504}]                  6\n",
      "[{\"name\": \"Imagine Entertainment\", \"id\": 23}, {\"name\": \"Universal Pictures\", \"id\": 33}]                              6\n",
      "[{\"name\": \"TriStar Pictures\", \"id\": 559}]                                                                            6\n",
      "Name: count, dtype: int64\n"
     ]
    }
   ],
   "source": [
    "print(top_25_production_companies)"
   ]
  },
  {
   "cell_type": "code",
   "execution_count": 45,
   "id": "088711ca-f571-44be-9cd3-5d67a5a78978",
   "metadata": {},
   "outputs": [],
   "source": [
    "top_500 = df.sort_values(by='revenue', ascending=False).head(500)"
   ]
  },
  {
   "cell_type": "code",
   "execution_count": 46,
   "id": "5045b602-d4b9-4ba3-8d42-cc6799b1cda9",
   "metadata": {},
   "outputs": [
    {
     "name": "stdout",
     "output_type": "stream",
     "text": [
      "         budget                                             genres  \\\n",
      "0     237000000  [{\"id\": 28, \"name\": \"Action\"}, {\"id\": 12, \"nam...   \n",
      "25    200000000  [{\"id\": 18, \"name\": \"Drama\"}, {\"id\": 10749, \"n...   \n",
      "16    220000000  [{\"id\": 878, \"name\": \"Science Fiction\"}, {\"id\"...   \n",
      "28    150000000  [{\"id\": 28, \"name\": \"Action\"}, {\"id\": 12, \"nam...   \n",
      "44    190000000                     [{\"id\": 28, \"name\": \"Action\"}]   \n",
      "...         ...                                                ...   \n",
      "397    85000000  [{\"id\": 35, \"name\": \"Comedy\"}, {\"id\": 10749, \"...   \n",
      "1744   30000000  [{\"id\": 35, \"name\": \"Comedy\"}, {\"id\": 10749, \"...   \n",
      "698    70000000  [{\"id\": 12, \"name\": \"Adventure\"}, {\"id\": 16, \"...   \n",
      "717    60000000  [{\"id\": 80, \"name\": \"Crime\"}, {\"id\": 18, \"name...   \n",
      "714    65000000  [{\"id\": 18, \"name\": \"Drama\"}, {\"id\": 80, \"name...   \n",
      "\n",
      "                               homepage      id  \\\n",
      "0           http://www.avatarmovie.com/   19995   \n",
      "25          http://www.titanicmovie.com     597   \n",
      "16    http://marvel.com/avengers_movie/   24428   \n",
      "28        http://www.jurassicworld.com/  135397   \n",
      "44             http://www.furious7.com/  168259   \n",
      "...                                 ...     ...   \n",
      "397     http://itscomplicatedmovie.com/   22897   \n",
      "1744         http://knockedupmovie.com/    4964   \n",
      "698                                 NaN    9837   \n",
      "717    http://www.jackreachermovie.com/   75780   \n",
      "714                                 NaN    1538   \n",
      "\n",
      "                                               keywords original_language  \\\n",
      "0     [{\"id\": 1463, \"name\": \"culture clash\"}, {\"id\":...                en   \n",
      "25    [{\"id\": 2580, \"name\": \"shipwreck\"}, {\"id\": 298...                en   \n",
      "16    [{\"id\": 242, \"name\": \"new york\"}, {\"id\": 5539,...                en   \n",
      "28    [{\"id\": 1299, \"name\": \"monster\"}, {\"id\": 1718,...                en   \n",
      "44    [{\"id\": 830, \"name\": \"car race\"}, {\"id\": 3428,...                en   \n",
      "...                                                 ...               ...   \n",
      "397   [{\"id\": 3687, \"name\": \"graduation\"}, {\"id\": 59...                en   \n",
      "1744  [{\"id\": 567, \"name\": \"alcohol\"}, {\"id\": 2864, ...                en   \n",
      "698   [{\"id\": 488, \"name\": \"moses\"}, {\"id\": 1160, \"n...                en   \n",
      "717   [{\"id\": 818, \"name\": \"based on novel\"}, {\"id\":...                en   \n",
      "714   [{\"id\": 387, \"name\": \"california\"}, {\"id\": 444...                en   \n",
      "\n",
      "           original_title                                           overview  \\\n",
      "0                  Avatar  In the 22nd century, a paraplegic Marine is di...   \n",
      "25                Titanic  84 years later, a 101-year-old woman named Ros...   \n",
      "16           The Avengers  When an unexpected enemy emerges and threatens...   \n",
      "28         Jurassic World  Twenty-two years after the events of Jurassic ...   \n",
      "44              Furious 7  Deckard Shaw seeks revenge against Dominic Tor...   \n",
      "...                   ...                                                ...   \n",
      "397      It's Complicated  Ten years after their divorce, Jane and Jake A...   \n",
      "1744           Knocked Up  For fun loving party animal Ben Stone, the las...   \n",
      "698   The Prince of Egypt  This is the extraordinary tale of two brothers...   \n",
      "717          Jack Reacher  In an innocent heartland city, five are shot d...   \n",
      "714            Collateral  Cab driver Max picks up a man who offers him $...   \n",
      "\n",
      "      popularity                               production_companies  \\\n",
      "0     150.437577  [{\"name\": \"Ingenious Film Partners\", \"id\": 289...   \n",
      "25    100.025899  [{\"name\": \"Paramount Pictures\", \"id\": 4}, {\"na...   \n",
      "16    144.448633  [{\"name\": \"Paramount Pictures\", \"id\": 4}, {\"na...   \n",
      "28    418.708552  [{\"name\": \"Universal Studios\", \"id\": 13}, {\"na...   \n",
      "44    102.322217  [{\"name\": \"Universal Pictures\", \"id\": 33}, {\"n...   \n",
      "...          ...                                                ...   \n",
      "397    16.479851  [{\"name\": \"Universal Pictures\", \"id\": 33}, {\"n...   \n",
      "1744   22.527211  [{\"name\": \"Universal Pictures\", \"id\": 33}, {\"n...   \n",
      "698    29.464852  [{\"name\": \"DreamWorks SKG\", \"id\": 27}, {\"name\"...   \n",
      "717    56.868399  [{\"name\": \"Paramount Pictures\", \"id\": 4}, {\"na...   \n",
      "714    44.815022  [{\"name\": \"Paramount Pictures\", \"id\": 4}, {\"na...   \n",
      "\n",
      "                                   production_countries release_date  \\\n",
      "0     [{\"iso_3166_1\": \"US\", \"name\": \"United States o...   10-12-2009   \n",
      "25    [{\"iso_3166_1\": \"US\", \"name\": \"United States o...   18-11-1997   \n",
      "16    [{\"iso_3166_1\": \"US\", \"name\": \"United States o...   25-04-2012   \n",
      "28    [{\"iso_3166_1\": \"US\", \"name\": \"United States o...   09-06-2015   \n",
      "44    [{\"iso_3166_1\": \"JP\", \"name\": \"Japan\"}, {\"iso_...   01-04-2015   \n",
      "...                                                 ...          ...   \n",
      "397   [{\"iso_3166_1\": \"US\", \"name\": \"United States o...   23-12-2009   \n",
      "1744  [{\"iso_3166_1\": \"US\", \"name\": \"United States o...   01-06-2007   \n",
      "698   [{\"iso_3166_1\": \"US\", \"name\": \"United States o...   15-12-1998   \n",
      "717   [{\"iso_3166_1\": \"US\", \"name\": \"United States o...   20-12-2012   \n",
      "714   [{\"iso_3166_1\": \"US\", \"name\": \"United States o...   04-08-2004   \n",
      "\n",
      "         revenue  runtime                                   spoken_languages  \\\n",
      "0     2787965087    162.0  [{\"iso_639_1\": \"en\", \"name\": \"English\"}, {\"iso...   \n",
      "25    1845034188    194.0  [{\"iso_639_1\": \"en\", \"name\": \"English\"}, {\"iso...   \n",
      "16    1519557910    143.0           [{\"iso_639_1\": \"en\", \"name\": \"English\"}]   \n",
      "28    1513528810    124.0           [{\"iso_639_1\": \"en\", \"name\": \"English\"}]   \n",
      "44    1506249360    137.0           [{\"iso_639_1\": \"en\", \"name\": \"English\"}]   \n",
      "...          ...      ...                                                ...   \n",
      "397    219103655    121.0  [{\"iso_639_1\": \"en\", \"name\": \"English\"}, {\"iso...   \n",
      "1744   219076518    129.0           [{\"iso_639_1\": \"en\", \"name\": \"English\"}]   \n",
      "698    218613188     99.0  [{\"iso_639_1\": \"he\", \"name\": \"\\u05e2\\u05b4\\u05...   \n",
      "717    218340595    130.0           [{\"iso_639_1\": \"en\", \"name\": \"English\"}]   \n",
      "714    217764291    120.0  [{\"iso_639_1\": \"es\", \"name\": \"Espa\\u00f1ol\"}, ...   \n",
      "\n",
      "        status                                            tagline  \\\n",
      "0     Released                        Enter the World of Pandora.   \n",
      "25    Released          Nothing on Earth could come between them.   \n",
      "16    Released                            Some assembly required.   \n",
      "28    Released                                  The park is open.   \n",
      "44    Released                                Vengeance Hits Home   \n",
      "...        ...                                                ...   \n",
      "397   Released  First comes marriage. Then comes divorce. And ...   \n",
      "1744  Released                                 Save the due date.   \n",
      "698   Released                                 The Power Is Real.   \n",
      "717   Released                   The Law Has Limits. He Does Not.   \n",
      "714   Released                   It started like any other night.   \n",
      "\n",
      "                    title  vote_average  vote_count  \n",
      "0                  Avatar           7.2       11800  \n",
      "25                Titanic           7.5        7562  \n",
      "16           The Avengers           7.4       11776  \n",
      "28         Jurassic World           6.5        8662  \n",
      "44              Furious 7           7.3        4176  \n",
      "...                   ...           ...         ...  \n",
      "397      It's Complicated           6.2         360  \n",
      "1744           Knocked Up           6.2        1214  \n",
      "698   The Prince of Egypt           6.8         817  \n",
      "717          Jack Reacher           6.3        2998  \n",
      "714            Collateral           7.0        1451  \n",
      "\n",
      "[500 rows x 20 columns]\n"
     ]
    }
   ],
   "source": [
    "print(top_500)"
   ]
  },
  {
   "cell_type": "code",
   "execution_count": 47,
   "id": "128bce68-5180-4a48-8c57-da667d27f3bc",
   "metadata": {},
   "outputs": [],
   "source": [
    "budget_mean = top_500['budget'].mean()\n",
    "budget_median = top_500['budget'].median()\n",
    "budget_mode = top_500['budget'].mode()[0]"
   ]
  },
  {
   "cell_type": "code",
   "execution_count": 48,
   "id": "de7e047b-46ad-4dd7-9cf1-f28da06c50d3",
   "metadata": {},
   "outputs": [],
   "source": [
    "revenue_mean = top_500['revenue'].mean()\n",
    "revenue_median = top_500['revenue'].median()\n",
    "revenue_mode = top_500['revenue'].mode()[0]"
   ]
  },
  {
   "cell_type": "code",
   "execution_count": 49,
   "id": "43d01795-ad5b-43c7-aecc-3c15fec533ab",
   "metadata": {},
   "outputs": [],
   "source": [
    "runtime_mean = top_500['runtime'].mean()\n",
    "runtime_median = top_500['runtime'].median()\n",
    "runtime_mode = top_500['runtime'].mode()[0]"
   ]
  },
  {
   "cell_type": "code",
   "execution_count": 50,
   "id": "e747f34f-836f-4eec-af70-41d36e400e54",
   "metadata": {},
   "outputs": [
    {
     "name": "stdout",
     "output_type": "stream",
     "text": [
      "Budget - Mean: 103193736.0 Median: 95000000.0 Mode: 150000000\n",
      "Revenue - Mean: 458577595.062 Median: 363001569.5 Mode: 217764291\n",
      "Runtime - Mean: 118.72 Median: 116.0 Mode: 115.0\n"
     ]
    }
   ],
   "source": [
    "print(\"Budget - Mean:\", budget_mean, \"Median:\", budget_median, \"Mode:\", budget_mode)\n",
    "print(\"Revenue - Mean:\", revenue_mean, \"Median:\", revenue_median, \"Mode:\", revenue_mode)\n",
    "print(\"Runtime - Mean:\", runtime_mean, \"Median:\", runtime_median, \"Mode:\", runtime_mode)"
   ]
  },
  {
   "cell_type": "code",
   "execution_count": 53,
   "id": "776c0d0c-6540-4b1e-ae81-a24e4142df66",
   "metadata": {},
   "outputs": [],
   "source": [
    "import seaborn as sns"
   ]
  },
  {
   "cell_type": "code",
   "execution_count": 51,
   "id": "5213c30c-ca66-4aec-95ae-f5e7577c6a84",
   "metadata": {},
   "outputs": [
    {
     "data": {
      "text/plain": [
       "<Figure size 1500x500 with 0 Axes>"
      ]
     },
     "execution_count": 51,
     "metadata": {},
     "output_type": "execute_result"
    },
    {
     "data": {
      "text/plain": [
       "<Figure size 1500x500 with 0 Axes>"
      ]
     },
     "metadata": {},
     "output_type": "display_data"
    }
   ],
   "source": [
    "plt.figure(figsize=(15, 5))"
   ]
  },
  {
   "cell_type": "code",
   "execution_count": 54,
   "id": "703723b3-ff80-43cd-b5a8-72dfe4847e79",
   "metadata": {},
   "outputs": [
    {
     "data": {
      "text/plain": [
       "Text(0.5, 1.0, 'Budget Boxplot')"
      ]
     },
     "execution_count": 54,
     "metadata": {},
     "output_type": "execute_result"
    },
    {
     "data": {
      "image/png": "[encoded data removed]",
      "text/plain": [
       "<Figure size 640x480 with 1 Axes>"
      ]
     },
     "metadata": {},
     "output_type": "display_data"
    }
   ],
   "source": [
    "plt.subplot(1, 3, 1)\n",
    "sns.boxplot(x=top_500['budget'])\n",
    "plt.title('Budget Boxplot')"
   ]
  },
  {
   "cell_type": "code",
   "execution_count": 55,
   "id": "0a50dfc7-7b76-4218-85bb-07e15471b735",
   "metadata": {},
   "outputs": [
    {
     "data": {
      "text/plain": [
       "Text(0.5, 1.0, 'Revenue Boxplot')"
      ]
     },
     "execution_count": 55,
     "metadata": {},
     "output_type": "execute_result"
    },
    {
     "data": {
      "image/png": "[encoded data removed]",
      "text/plain": [
       "<Figure size 640x480 with 1 Axes>"
      ]
     },
     "metadata": {},
     "output_type": "display_data"
    }
   ],
   "source": [
    "plt.subplot(1, 3, 2)\n",
    "sns.boxplot(x=top_500['revenue'])\n",
    "plt.title('Revenue Boxplot')"
   ]
  },
  {
   "cell_type": "code",
   "execution_count": 56,
   "id": "3e236a8a-6011-4110-a4a6-0681b72a70d9",
   "metadata": {},
   "outputs": [
    {
     "data": {
      "text/plain": [
       "Text(0.5, 1.0, 'Runtime Boxplot')"
      ]
     },
     "execution_count": 56,
     "metadata": {},
     "output_type": "execute_result"
    },
    {
     "data": {
      "image/png": "[encoded data removed]",
      "text/plain": [
       "<Figure size 640x480 with 1 Axes>"
      ]
     },
     "metadata": {},
     "output_type": "display_data"
    }
   ],
   "source": [
    "plt.subplot(1, 3, 3)\n",
    "sns.boxplot(x=top_500['runtime'])\n",
    "plt.title('Runtime Boxplot')\n"
   ]
  },
  {
   "cell_type": "code",
   "execution_count": 63,
   "id": "07ddf422-460e-4f3f-948b-890b5c985770",
   "metadata": {},
   "outputs": [],
   "source": [
    "top_500 = df.sort_values(by='revenue', ascending=False).head(500)"
   ]
  },
  {
   "cell_type": "code",
   "execution_count": 64,
   "id": "d242b3f6-615d-43fb-a064-64eda1fc3263",
   "metadata": {},
   "outputs": [],
   "source": [
    "average_runtime = top_500['runtime'].mean()"
   ]
  },
  {
   "cell_type": "code",
   "execution_count": null,
   "id": "b68ab59c-66f5-48b6-a72e-42fe91dc5677",
   "metadata": {},
   "outputs": [],
   "source": [
    "long_runtime_movies = top_500[top_500['runtime'] > average_runtime]\n"
   ]
  }
 ],
 "metadata": {
  "kernelspec": {
   "display_name": "Python [conda env:base] *",
   "language": "python",
   "name": "conda-base-py"
  },
  "language_info": {
   "codemirror_mode": {
    "name": "ipython",
    "version": 3
   },
   "file_extension": ".py",
   "mimetype": "text/x-python",
   "name": "python",
   "nbconvert_exporter": "python",
   "pygments_lexer": "ipython3",
   "version": "3.12.7"
  }
 },
 "nbformat": 4,
 "nbformat_minor": 5
}
